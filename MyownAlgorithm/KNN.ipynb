{
 "cells": [
  {
   "cell_type": "code",
   "execution_count": 1,
   "metadata": {
    "ExecuteTime": {
     "end_time": "2017-12-04T14:49:16.200768",
     "start_time": "2017-12-04T14:49:16.121099"
    },
    "collapsed": true
   },
   "outputs": [],
   "source": [
    "import numpy as np"
   ]
  },
  {
   "cell_type": "code",
   "execution_count": 491,
   "metadata": {
    "ExecuteTime": {
     "end_time": "2017-12-04T20:16:23.121526",
     "start_time": "2017-12-04T20:16:23.104014"
    },
    "collapsed": true
   },
   "outputs": [],
   "source": [
    "class Knn():\n",
    "    def __init__(self,**kwargs):\n",
    "        self.topK = kwargs.get('topK')\n",
    "        \n",
    "    def train(self,train_X,train_y):\n",
    "        '''\n",
    "        Knn 没有显式的训练过程\n",
    "        '''\n",
    "        self.train_X = train_X\n",
    "        self.train_y = train_y\n",
    "        self.len_train = self.train_X.shape[0]\n",
    "        \n",
    "        \n",
    "    def predict(self,test_X):\n",
    "        self.len_test = test_X.shape[0]\n",
    "        train_X2 = np.tile(self.train_X,(self.len_test,1))\n",
    "        test_X2 = np.repeat(test_X,self.len_train,axis=0)\n",
    "        C1 = test_X2-train_X2\n",
    "        D1 = (C1**2).sum(axis=1)**0.5\n",
    "        D2 = D1.reshape((self.len_test,self.len_train))\n",
    "        D3 = D2.argsort(axis=1)[:,:self.topK]\n",
    "        D4 = self.train_y[D3]\n",
    "        return np.array([max(zip(*np.unique(x,return_counts=True)),key=lambda x:x[1])[0] for x in D4])\n",
    "        \n",
    "        \n",
    "        \n",
    "        \n",
    "        \n",
    "        \n",
    "\n",
    "k = Knn(topK=4)"
   ]
  },
  {
   "cell_type": "markdown",
   "metadata": {},
   "source": [
    "- #### 9行代码就实现了Knn算法当然是最简版的，这个算法是我手写的，\n",
    "- #### 中间经历了很多次的重构，刚开始代码非常臃肿，并且有一个对Numpy 的错误认识导致的错误\n",
    "- Numpy做数值计算真的不错不错，\n",
    "- 本算法只能用来做数值型距离计算，如果是非数值距离（如MDV距离)那么还要其他地方来实现，其实可以单独做一个功能，因为在聚类算法中也要有这样的计算\n",
    "- 我的算法非常简洁，我觉得应该是很简洁了"
   ]
  },
  {
   "cell_type": "code",
   "execution_count": 485,
   "metadata": {
    "ExecuteTime": {
     "end_time": "2017-12-04T20:16:00.337960",
     "start_time": "2017-12-04T20:16:00.332721"
    },
    "collapsed": true
   },
   "outputs": [],
   "source": [
    "train_X = np.array([[1,2,3,5],[5,6,7,1],[9,4,-7,5],[5,6,44,3],[93,4,-7,51]])\n",
    "\n",
    "train_y = np.array(['Y','N','Y','N','N'])\n",
    "\n",
    "test_X = np.array([[3,5,6,7],[3,90,2,6]])"
   ]
  },
  {
   "cell_type": "code",
   "execution_count": 492,
   "metadata": {
    "ExecuteTime": {
     "end_time": "2017-12-04T20:16:26.990697",
     "start_time": "2017-12-04T20:16:26.985708"
    },
    "collapsed": false
   },
   "outputs": [
    {
     "data": {
      "text/plain": [
       "array(['N', 'N'], \n",
       "      dtype='<U1')"
      ]
     },
     "execution_count": 492,
     "metadata": {},
     "output_type": "execute_result"
    }
   ],
   "source": [
    "k.train(train_X,train_y)\n",
    "k.predict(test_X)"
   ]
  },
  {
   "cell_type": "code",
   "execution_count": 505,
   "metadata": {
    "ExecuteTime": {
     "end_time": "2017-12-04T20:25:25.846411",
     "start_time": "2017-12-04T20:25:25.841264"
    },
    "collapsed": false
   },
   "outputs": [
    {
     "data": {
      "text/plain": [
       "array(['A', 'B', 'A'], \n",
       "      dtype='<U1')"
      ]
     },
     "execution_count": 505,
     "metadata": {},
     "output_type": "execute_result"
    }
   ],
   "source": [
    "k = Knn(topK=1)\n",
    "k.train(np.array([[0,0],[1,1],[9,10]]),np.array(['A','A','B']))\n",
    "k.predict(np.array([[0,1],[9,9],[3,3]]))"
   ]
  },
  {
   "cell_type": "code",
   "execution_count": null,
   "metadata": {
    "collapsed": true
   },
   "outputs": [],
   "source": []
  }
 ],
 "metadata": {
  "kernelspec": {
   "display_name": "Python 3",
   "language": "python",
   "name": "python3"
  },
  "language_info": {
   "codemirror_mode": {
    "name": "ipython",
    "version": 3
   },
   "file_extension": ".py",
   "mimetype": "text/x-python",
   "name": "python",
   "nbconvert_exporter": "python",
   "pygments_lexer": "ipython3",
   "version": "3.5.2"
  },
  "toc": {
   "colors": {
    "hover_highlight": "#DAA520",
    "running_highlight": "#FF0000",
    "selected_highlight": "#FFD700"
   },
   "moveMenuLeft": true,
   "nav_menu": {
    "height": "11px",
    "width": "251px"
   },
   "navigate_menu": true,
   "number_sections": true,
   "sideBar": true,
   "threshold": 4,
   "toc_cell": false,
   "toc_section_display": "block",
   "toc_window_display": false
  }
 },
 "nbformat": 4,
 "nbformat_minor": 2
}
