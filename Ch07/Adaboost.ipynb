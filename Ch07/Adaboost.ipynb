{
 "cells": [
  {
   "cell_type": "code",
   "execution_count": 1,
   "metadata": {
    "collapsed": true
   },
   "outputs": [],
   "source": [
    "from numpy import matrix\n",
    "from numpy import ones\n",
    "from numpy import shape\n",
    "from numpy import mat\n",
    "from numpy import zeros\n",
    "from numpy import inf\n",
    "\n",
    "from numpy import exp,log\n",
    "import numpy as np\n",
    "import matplotlib.pyplot as plt\n",
    "\n",
    "from numpy import multiply,sign\n",
    "\n",
    "from pandas import DataFrame"
   ]
  },
  {
   "cell_type": "code",
   "execution_count": 2,
   "metadata": {
    "collapsed": true
   },
   "outputs": [],
   "source": [
    "def loadSimpleData():\n",
    "    dataMat = matrix([[1.,2.1],[2.,1.1],[1.3,1.],[1.,1.],[2.,1.],])\n",
    "    classLabels = [1.0,1.0,-1.0,-1.0,1.0]\n",
    "    return dataMat, classLabels"
   ]
  },
  {
   "cell_type": "markdown",
   "metadata": {
    "collapsed": true
   },
   "source": [
    "datMat , classLabels = loadSimpleData()"
   ]
  },
  {
   "cell_type": "markdown",
   "metadata": {
    "collapsed": false
   },
   "source": [
    "datMat"
   ]
  },
  {
   "cell_type": "code",
   "execution_count": 31,
   "metadata": {
    "collapsed": true
   },
   "outputs": [],
   "source": [
    "def stumpClassify(dataMatrix,dimen,threshVal,threshIneq):\n",
    "    retArray = ones((shape(dataMatrix)[0],1))\n",
    "    if threshIneq == 'lt':\n",
    "        retArray[dataMatrix[:,dimen] <= threshVal] = -1.0\n",
    "    else:\n",
    "        retArray[dataMatrix[:,dimen] > threshVal] = -1.0\n",
    "    return retArray"
   ]
  },
  {
   "cell_type": "markdown",
   "metadata": {
    "collapsed": false,
    "scrolled": false
   },
   "source": [
    "stumpClassify(datMat,0,1.5,'lddt')"
   ]
  },
  {
   "cell_type": "code",
   "execution_count": 13,
   "metadata": {
    "collapsed": false
   },
   "outputs": [],
   "source": [
    "def buildStump(dataArr, classLabels, D):\n",
    "    dataMatrix = mat(dataArr);\n",
    "    labelMat = mat(classLabels).T\n",
    "    m,n =shape(dataMatrix)\n",
    "    numSteps = 10.0; bestStump = {}; bestClassEst = mat(zeros((m,1)))\n",
    "    minError = inf\n",
    "    for i in range(n):\n",
    "        rangeMin = dataMatrix[:,i].min();rangeMax = dataMatrix[:,i].max();\n",
    "        StepSize = (rangeMax-rangeMin)/numSteps\n",
    "        for j in range(-1,int(numSteps)+1):\n",
    "            for inequal in ['lt','gt']:\n",
    "                threshVal = rangeMin +float(j)*StepSize\n",
    "                predictedVals = stumpClassify(dataMatrix,i,threshVal,inequal)\n",
    "                errArr = mat(ones((m,1)))                                          \n",
    "                errArr[predictedVals == labelMat] = 0\n",
    "                weightedError = D.T * errArr\n",
    "                #print('split:dim %d, thresh %.2f, thresh ineneqal: %s the weighted error is %.3f'%\\\n",
    "                     #(i,threshVal,inequal,weightedError))\n",
    "                if weightedError < minError:\n",
    "                    minError = weightedError\n",
    "                    bestClassEst = predictedVals.copy()\n",
    "                    bestStump['dim'] = i\n",
    "                    bestStump['thresh'] = threshVal\n",
    "                    bestStump['ineq'] = inequal\n",
    "                    #print(bestStump,minError)\n",
    "    return bestStump, minError, bestClassEst"
   ]
  },
  {
   "cell_type": "markdown",
   "metadata": {
    "collapsed": false,
    "scrolled": true
   },
   "source": [
    "buildStump(datMat,classLabels,D)"
   ]
  },
  {
   "cell_type": "code",
   "execution_count": 5,
   "metadata": {
    "collapsed": false
   },
   "outputs": [
    {
     "name": "stderr",
     "output_type": "stream",
     "text": [
      "/home/xu/venv/lib/python3.5/site-packages/ipykernel/__main__.py:3: RuntimeWarning: divide by zero encountered in true_divide\n",
      "  app.launch_new_instance()\n",
      "/home/xu/venv/lib/python3.5/site-packages/ipykernel/__main__.py:3: RuntimeWarning: divide by zero encountered in log\n",
      "  app.launch_new_instance()\n"
     ]
    },
    {
     "data": {
      "image/png": "[encoded data removed]",
      "text/plain": [
       "<matplotlib.figure.Figure at 0x7f2d4e994a20>"
      ]
     },
     "metadata": {},
     "output_type": "display_data"
    }
   ],
   "source": [
    "X =np.linspace(0,1,1000)\n",
    "\n",
    "Y = 0.5*log((1-X)/X)\n",
    "\n",
    "A = plt.plot(X,Y,'-')\n",
    "\n",
    "plt.grid(True)\n",
    "\n",
    "plt.show()"
   ]
  },
  {
   "cell_type": "code",
   "execution_count": 22,
   "metadata": {
    "collapsed": false
   },
   "outputs": [],
   "source": [
    "def addBoostTrainDS(datMat,classLabels,numIt=40):\n",
    "    weakClassErr = []\n",
    "    m = shape(datMat)[0]\n",
    "    D = mat(ones((m,1))/m)\n",
    "    aggClassEst = mat(zeros((m,1)))\n",
    "    for i in range(numIt):\n",
    "        bestStump, error, classEst = buildStump(datMat,classLabels,D)\n",
    "        #print('D:',D.T)\n",
    "        alpha = float(0.5*log((1-error)/max(error,1e-16)))\n",
    "        bestStump['alpha'] = alpha\n",
    "        weakClassErr.append(bestStump)\n",
    "        #print(\"classEst: \", classEst.T)\n",
    "        expon = multiply(-1*alpha*mat(classLabels).T,classEst)\n",
    "        D = multiply(D,exp(expon))\n",
    "        D = D/D.sum()\n",
    "        aggClassEst += alpha*classEst\n",
    "        #print('aggClassEst: ',aggClassEst.T)\n",
    "        aggError = multiply(sign(aggClassEst) != mat(classLabels).T,ones((m,1)))\n",
    "        errorRate = aggError.sum()/m\n",
    "        print(\"total error: \",errorRate,'\\n')\n",
    "        if errorRate == 0.0:\n",
    "            break\n",
    "    return weakClassErr\n"
   ]
  },
  {
   "cell_type": "markdown",
   "metadata": {
    "collapsed": false
   },
   "source": [
    "classifierArr = addBoostTrainDS(datMat,classLabels,9)"
   ]
  },
  {
   "cell_type": "code",
   "execution_count": 23,
   "metadata": {
    "collapsed": true
   },
   "outputs": [],
   "source": [
    "def adaClassify(datToClass,classifierArr):\n",
    "    dataMatrix = mat(datToClass)\n",
    "    m = shape(dataMatrix)[0]\n",
    "    aggClassEst = mat(zeros((m,1)))\n",
    "    for i in range(len(classifierArr)):\n",
    "        classEst = stumpClassify(dataMatrix,classifierArr[i]['dim'],classifierArr[i]['thresh'],classifierArr[i]['ineq'])\n",
    "        aggClassEst += classifierArr[i]['alpha']*classEst\n",
    "        print(aggClassEst)\n",
    "    return sign(aggClassEst)"
   ]
  },
  {
   "cell_type": "markdown",
   "metadata": {
    "collapsed": false
   },
   "source": [
    "adaClassify([[0,0],[5,5]],classifierArr)"
   ]
  },
  {
   "cell_type": "code",
   "execution_count": 24,
   "metadata": {
    "collapsed": true
   },
   "outputs": [],
   "source": [
    "def loadDataSet(fileName):\n",
    "    dataMat = []; labelMat = []\n",
    "    fr = open(fileName)\n",
    "    for line in fr.readlines():\n",
    "        lineArr = line.strip().split('\\t')\n",
    "        dataMat.append([float(lineArr[0]), float(lineArr[1])])\n",
    "        labelMat.append(float(lineArr[2]))\n",
    "    return dataMat,labelMat"
   ]
  },
  {
   "cell_type": "code",
   "execution_count": 25,
   "metadata": {
    "collapsed": true
   },
   "outputs": [],
   "source": [
    "datArr , labelArr = loadDataSet('horseColicTraining2.txt')"
   ]
  },
  {
   "cell_type": "code",
   "execution_count": 30,
   "metadata": {
    "collapsed": false,
    "scrolled": true
   },
   "outputs": [
    {
     "data": {
      "text/plain": [
       "[[2.0, 1.0],\n",
       " [1.0, 1.0],\n",
       " [2.0, 1.0],\n",
       " [1.0, 9.0],\n",
       " [2.0, 1.0],\n",
       " [2.0, 1.0],\n",
       " [1.0, 1.0],\n",
       " [1.0, 1.0],\n",
       " [2.0, 1.0],\n",
       " [2.0, 9.0],\n",
       " [1.0, 1.0],\n",
       " [2.0, 1.0],\n",
       " [1.0, 1.0],\n",
       " [2.0, 9.0],\n",
       " [1.0, 1.0],\n",
       " [1.0, 1.0],\n",
       " [1.0, 9.0],\n",
       " [2.0, 1.0],\n",
       " [1.0, 1.0],\n",
       " [2.0, 1.0],\n",
       " [1.0, 1.0],\n",
       " [2.0, 1.0],\n",
       " [1.0, 1.0],\n",
       " [1.0, 9.0],\n",
       " [1.0, 1.0],\n",
       " [2.0, 1.0],\n",
       " [1.0, 1.0],\n",
       " [1.0, 1.0],\n",
       " [1.0, 1.0],\n",
       " [2.0, 1.0],\n",
       " [2.0, 1.0],\n",
       " [2.0, 1.0],\n",
       " [1.0, 1.0],\n",
       " [1.0, 1.0],\n",
       " [1.0, 1.0],\n",
       " [2.0, 1.0],\n",
       " [2.0, 1.0],\n",
       " [1.0, 1.0],\n",
       " [2.0, 1.0],\n",
       " [1.0, 9.0],\n",
       " [1.0, 1.0],\n",
       " [2.0, 9.0],\n",
       " [2.0, 1.0],\n",
       " [1.0, 1.0],\n",
       " [1.0, 1.0],\n",
       " [2.0, 1.0],\n",
       " [1.0, 1.0],\n",
       " [2.0, 1.0],\n",
       " [1.0, 1.0],\n",
       " [2.0, 1.0],\n",
       " [2.0, 1.0],\n",
       " [1.0, 1.0],\n",
       " [2.0, 1.0],\n",
       " [2.0, 1.0],\n",
       " [2.0, 1.0],\n",
       " [1.0, 9.0],\n",
       " [1.0, 1.0],\n",
       " [1.0, 1.0],\n",
       " [1.0, 1.0],\n",
       " [2.0, 1.0],\n",
       " [2.0, 1.0],\n",
       " [2.0, 1.0],\n",
       " [1.0, 1.0],\n",
       " [2.0, 1.0],\n",
       " [1.0, 1.0],\n",
       " [1.0, 1.0],\n",
       " [2.0, 1.0],\n",
       " [2.0, 1.0],\n",
       " [2.0, 1.0],\n",
       " [2.0, 1.0],\n",
       " [2.0, 1.0],\n",
       " [1.0, 1.0],\n",
       " [1.0, 1.0],\n",
       " [1.0, 1.0],\n",
       " [1.0, 9.0],\n",
       " [1.0, 9.0],\n",
       " [1.0, 1.0],\n",
       " [2.0, 1.0],\n",
       " [1.0, 1.0],\n",
       " [1.0, 1.0],\n",
       " [1.0, 1.0],\n",
       " [1.0, 1.0],\n",
       " [1.0, 9.0],\n",
       " [1.0, 1.0],\n",
       " [1.0, 1.0],\n",
       " [2.0, 1.0],\n",
       " [1.0, 1.0],\n",
       " [2.0, 1.0],\n",
       " [2.0, 1.0],\n",
       " [2.0, 1.0],\n",
       " [2.0, 1.0],\n",
       " [2.0, 1.0],\n",
       " [2.0, 1.0],\n",
       " [2.0, 1.0],\n",
       " [2.0, 1.0],\n",
       " [1.0, 1.0],\n",
       " [2.0, 1.0],\n",
       " [1.0, 1.0],\n",
       " [2.0, 1.0],\n",
       " [2.0, 1.0],\n",
       " [1.0, 1.0],\n",
       " [1.0, 1.0],\n",
       " [2.0, 1.0],\n",
       " [1.0, 9.0],\n",
       " [1.0, 1.0],\n",
       " [1.0, 1.0],\n",
       " [1.0, 1.0],\n",
       " [2.0, 1.0],\n",
       " [1.0, 1.0],\n",
       " [1.0, 9.0],\n",
       " [1.0, 1.0],\n",
       " [1.0, 1.0],\n",
       " [1.0, 1.0],\n",
       " [1.0, 1.0],\n",
       " [1.0, 1.0],\n",
       " [2.0, 1.0],\n",
       " [1.0, 1.0],\n",
       " [2.0, 1.0],\n",
       " [1.0, 1.0],\n",
       " [2.0, 1.0],\n",
       " [1.0, 1.0],\n",
       " [1.0, 1.0],\n",
       " [2.0, 1.0],\n",
       " [1.0, 1.0],\n",
       " [2.0, 1.0],\n",
       " [1.0, 1.0],\n",
       " [1.0, 1.0],\n",
       " [1.0, 1.0],\n",
       " [1.0, 1.0],\n",
       " [1.0, 1.0],\n",
       " [1.0, 1.0],\n",
       " [2.0, 1.0],\n",
       " [2.0, 1.0],\n",
       " [1.0, 1.0],\n",
       " [1.0, 9.0],\n",
       " [1.0, 1.0],\n",
       " [1.0, 1.0],\n",
       " [2.0, 1.0],\n",
       " [2.0, 1.0],\n",
       " [1.0, 1.0],\n",
       " [2.0, 1.0],\n",
       " [1.0, 1.0],\n",
       " [1.0, 1.0],\n",
       " [1.0, 1.0],\n",
       " [2.0, 1.0],\n",
       " [1.0, 1.0],\n",
       " [2.0, 1.0],\n",
       " [1.0, 1.0],\n",
       " [2.0, 1.0],\n",
       " [2.0, 1.0],\n",
       " [1.0, 1.0],\n",
       " [1.0, 1.0],\n",
       " [2.0, 1.0],\n",
       " [2.0, 1.0],\n",
       " [2.0, 1.0],\n",
       " [2.0, 1.0],\n",
       " [1.0, 1.0],\n",
       " [2.0, 1.0],\n",
       " [2.0, 1.0],\n",
       " [1.0, 1.0],\n",
       " [1.0, 1.0],\n",
       " [2.0, 1.0],\n",
       " [1.0, 1.0],\n",
       " [1.0, 1.0],\n",
       " [1.0, 1.0],\n",
       " [1.0, 1.0],\n",
       " [2.0, 1.0],\n",
       " [1.0, 1.0],\n",
       " [1.0, 1.0],\n",
       " [2.0, 1.0],\n",
       " [2.0, 1.0],\n",
       " [1.0, 1.0],\n",
       " [1.0, 1.0],\n",
       " [2.0, 1.0],\n",
       " [1.0, 1.0],\n",
       " [1.0, 1.0],\n",
       " [1.0, 1.0],\n",
       " [1.0, 1.0],\n",
       " [2.0, 1.0],\n",
       " [1.0, 1.0],\n",
       " [2.0, 1.0],\n",
       " [1.0, 1.0],\n",
       " [2.0, 1.0],\n",
       " [2.0, 1.0],\n",
       " [1.0, 1.0],\n",
       " [1.0, 1.0],\n",
       " [1.0, 1.0],\n",
       " [1.0, 1.0],\n",
       " [1.0, 1.0],\n",
       " [1.0, 1.0],\n",
       " [2.0, 9.0],\n",
       " [1.0, 1.0],\n",
       " [1.0, 1.0],\n",
       " [2.0, 1.0],\n",
       " [2.0, 1.0],\n",
       " [2.0, 1.0],\n",
       " [2.0, 1.0],\n",
       " [2.0, 1.0],\n",
       " [2.0, 1.0],\n",
       " [1.0, 1.0],\n",
       " [1.0, 1.0],\n",
       " [1.0, 1.0],\n",
       " [2.0, 1.0],\n",
       " [1.0, 1.0],\n",
       " [2.0, 1.0],\n",
       " [1.0, 1.0],\n",
       " [1.0, 1.0],\n",
       " [1.0, 1.0],\n",
       " [2.0, 1.0],\n",
       " [1.0, 1.0],\n",
       " [1.0, 1.0],\n",
       " [1.0, 9.0],\n",
       " [1.0, 1.0],\n",
       " [2.0, 1.0],\n",
       " [1.0, 1.0],\n",
       " [2.0, 1.0],\n",
       " [1.0, 1.0],\n",
       " [1.0, 1.0],\n",
       " [1.0, 1.0],\n",
       " [1.0, 1.0],\n",
       " [1.0, 1.0],\n",
       " [1.0, 1.0],\n",
       " [1.0, 1.0],\n",
       " [1.0, 1.0],\n",
       " [2.0, 1.0],\n",
       " [1.0, 1.0],\n",
       " [1.0, 9.0],\n",
       " [1.0, 1.0],\n",
       " [1.0, 9.0],\n",
       " [1.0, 1.0],\n",
       " [2.0, 1.0],\n",
       " [1.0, 1.0],\n",
       " [1.0, 1.0],\n",
       " [2.0, 1.0],\n",
       " [1.0, 1.0],\n",
       " [2.0, 1.0],\n",
       " [2.0, 1.0],\n",
       " [2.0, 1.0],\n",
       " [1.0, 1.0],\n",
       " [1.0, 1.0],\n",
       " [1.0, 1.0],\n",
       " [1.0, 1.0],\n",
       " [1.0, 1.0],\n",
       " [1.0, 9.0],\n",
       " [2.0, 1.0],\n",
       " [1.0, 1.0],\n",
       " [1.0, 1.0],\n",
       " [1.0, 1.0],\n",
       " [2.0, 1.0],\n",
       " [1.0, 1.0],\n",
       " [2.0, 1.0],\n",
       " [1.0, 9.0],\n",
       " [2.0, 1.0],\n",
       " [1.0, 1.0],\n",
       " [1.0, 9.0],\n",
       " [1.0, 1.0],\n",
       " [1.0, 1.0],\n",
       " [2.0, 1.0],\n",
       " [1.0, 1.0],\n",
       " [2.0, 1.0],\n",
       " [2.0, 1.0],\n",
       " [2.0, 9.0],\n",
       " [1.0, 1.0],\n",
       " [1.0, 1.0],\n",
       " [2.0, 1.0],\n",
       " [2.0, 1.0],\n",
       " [2.0, 1.0],\n",
       " [1.0, 1.0],\n",
       " [1.0, 1.0],\n",
       " [1.0, 1.0],\n",
       " [1.0, 1.0],\n",
       " [1.0, 1.0],\n",
       " [1.0, 1.0],\n",
       " [1.0, 1.0],\n",
       " [1.0, 9.0],\n",
       " [1.0, 1.0],\n",
       " [2.0, 1.0],\n",
       " [2.0, 1.0],\n",
       " [2.0, 1.0],\n",
       " [1.0, 1.0],\n",
       " [2.0, 1.0],\n",
       " [1.0, 1.0],\n",
       " [1.0, 1.0],\n",
       " [2.0, 1.0],\n",
       " [1.0, 1.0],\n",
       " [2.0, 1.0],\n",
       " [2.0, 9.0],\n",
       " [1.0, 1.0],\n",
       " [1.0, 1.0],\n",
       " [2.0, 1.0],\n",
       " [1.0, 1.0],\n",
       " [1.0, 1.0],\n",
       " [1.0, 1.0],\n",
       " [2.0, 1.0],\n",
       " [1.0, 1.0],\n",
       " [2.0, 1.0],\n",
       " [1.0, 1.0],\n",
       " [1.0, 1.0],\n",
       " [1.0, 1.0]]"
      ]
     },
     "execution_count": 30,
     "metadata": {},
     "output_type": "execute_result"
    }
   ],
   "source": [
    "datArr"
   ]
  },
  {
   "cell_type": "code",
   "execution_count": 33,
   "metadata": {
    "collapsed": false,
    "scrolled": true
   },
   "outputs": [
    {
     "name": "stdout",
     "output_type": "stream",
     "text": [
      "total error:  1.0 \n",
      "\n",
      "total error:  1.0 \n",
      "\n",
      "total error:  1.0 \n",
      "\n",
      "total error:  1.0 \n",
      "\n",
      "total error:  1.0 \n",
      "\n",
      "total error:  1.0 \n",
      "\n",
      "total error:  1.0 \n",
      "\n",
      "total error:  1.0 \n",
      "\n",
      "total error:  1.0 \n",
      "\n",
      "total error:  1.0 \n",
      "\n",
      "total error:  1.0 \n",
      "\n",
      "total error:  1.0 \n",
      "\n",
      "total error:  1.0 \n",
      "\n",
      "total error:  1.0 \n",
      "\n",
      "total error:  1.0 \n",
      "\n",
      "total error:  1.0 \n",
      "\n",
      "total error:  1.0 \n",
      "\n",
      "total error:  1.0 \n",
      "\n",
      "total error:  1.0 \n",
      "\n",
      "total error:  1.0 \n",
      "\n",
      "total error:  1.0 \n",
      "\n",
      "total error:  1.0 \n",
      "\n",
      "total error:  1.0 \n",
      "\n",
      "total error:  1.0 \n",
      "\n",
      "total error:  1.0 \n",
      "\n",
      "total error:  1.0 \n",
      "\n",
      "total error:  1.0 \n",
      "\n",
      "total error:  1.0 \n",
      "\n",
      "total error:  1.0 \n",
      "\n",
      "total error:  1.0 \n",
      "\n",
      "total error:  1.0 \n",
      "\n",
      "total error:  1.0 \n",
      "\n",
      "total error:  1.0 \n",
      "\n",
      "total error:  1.0 \n",
      "\n",
      "total error:  1.0 \n",
      "\n",
      "total error:  1.0 \n",
      "\n",
      "total error:  1.0 \n",
      "\n",
      "total error:  1.0 \n",
      "\n",
      "total error:  1.0 \n",
      "\n",
      "total error:  1.0 \n",
      "\n",
      "total error:  1.0 \n",
      "\n",
      "total error:  1.0 \n",
      "\n",
      "total error:  1.0 \n",
      "\n",
      "total error:  1.0 \n",
      "\n",
      "total error:  1.0 \n",
      "\n",
      "total error:  1.0 \n",
      "\n",
      "total error:  1.0 \n",
      "\n",
      "total error:  1.0 \n",
      "\n",
      "total error:  1.0 \n",
      "\n",
      "total error:  1.0 \n",
      "\n"
     ]
    },
    {
     "name": "stderr",
     "output_type": "stream",
     "text": [
      "/home/xu/venv/lib/python3.5/site-packages/ipykernel/__main__.py:14: RuntimeWarning: overflow encountered in exp\n",
      "/home/xu/venv/lib/python3.5/site-packages/ipykernel/__main__.py:15: RuntimeWarning: invalid value encountered in true_divide\n"
     ]
    }
   ],
   "source": [
    "classifierArray = addBoostTrainDS(datArr,labelArr,50)"
   ]
  },
  {
   "cell_type": "code",
   "execution_count": 35,
   "metadata": {
    "collapsed": false
   },
   "outputs": [],
   "source": [
    "xx = [x for x,y in datArr]"
   ]
  },
  {
   "cell_type": "code",
   "execution_count": 36,
   "metadata": {
    "collapsed": true
   },
   "outputs": [],
   "source": [
    "yy = [y for x,y in datArr]"
   ]
  },
  {
   "cell_type": "code",
   "execution_count": 49,
   "metadata": {
    "collapsed": false
   },
   "outputs": [
    {
     "data": {
      "text/plain": [
       "[<matplotlib.lines.Line2D at 0x7f2d48f01e80>]"
      ]
     },
     "execution_count": 49,
     "metadata": {},
     "output_type": "execute_result"
    }
   ],
   "source": [
    "plt.plot(xx,yy,'*')"
   ]
  },
  {
   "cell_type": "code",
   "execution_count": 50,
   "metadata": {
    "collapsed": true
   },
   "outputs": [],
   "source": [
    "plt.grid(True)"
   ]
  },
  {
   "cell_type": "code",
   "execution_count": 51,
   "metadata": {
    "collapsed": false
   },
   "outputs": [
    {
     "data": {
      "image/png": "[encoded data removed]",
      "text/plain": [
       "<matplotlib.figure.Figure at 0x7f2d48f25710>"
      ]
     },
     "metadata": {},
     "output_type": "display_data"
    }
   ],
   "source": [
    "plt.show()"
   ]
  },
  {
   "cell_type": "code",
   "execution_count": null,
   "metadata": {
    "collapsed": true
   },
   "outputs": [],
   "source": []
  },
  {
   "cell_type": "code",
   "execution_count": 48,
   "metadata": {
    "collapsed": false
   },
   "outputs": [
    {
     "data": {
      "text/plain": [
       "[[2.0, 1.0],\n",
       " [1.0, 1.0],\n",
       " [2.0, 1.0],\n",
       " [1.0, 9.0],\n",
       " [2.0, 1.0],\n",
       " [2.0, 1.0],\n",
       " [1.0, 1.0],\n",
       " [1.0, 1.0],\n",
       " [2.0, 1.0],\n",
       " [2.0, 9.0]]"
      ]
     },
     "execution_count": 48,
     "metadata": {},
     "output_type": "execute_result"
    }
   ],
   "source": [
    "datArr[:10]"
   ]
  },
  {
   "cell_type": "code",
   "execution_count": null,
   "metadata": {
    "collapsed": true
   },
   "outputs": [],
   "source": []
  }
 ],
 "metadata": {
  "kernelspec": {
   "display_name": "Python 3",
   "language": "python",
   "name": "python3"
  },
  "language_info": {
   "codemirror_mode": {
    "name": "ipython",
    "version": 3
   },
   "file_extension": ".py",
   "mimetype": "text/x-python",
   "name": "python",
   "nbconvert_exporter": "python",
   "pygments_lexer": "ipython3",
   "version": "3.5.2"
  },
  "toc": {
   "colors": {
    "hover_highlight": "#DAA520",
    "running_highlight": "#FF0000",
    "selected_highlight": "#FFD700"
   },
   "moveMenuLeft": true,
   "nav_menu": {
    "height": "11px",
    "width": "251px"
   },
   "navigate_menu": true,
   "number_sections": true,
   "sideBar": true,
   "threshold": 4,
   "toc_cell": false,
   "toc_section_display": "block",
   "toc_window_display": false
  }
 },
 "nbformat": 4,
 "nbformat_minor": 1
}
