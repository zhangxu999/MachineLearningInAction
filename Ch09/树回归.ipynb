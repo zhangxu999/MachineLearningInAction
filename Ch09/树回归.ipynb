{
 "cells": [
  {
   "cell_type": "code",
   "execution_count": 1,
   "metadata": {
    "collapsed": true
   },
   "outputs": [],
   "source": [
    "class treeNode():\n",
    "    def __init__(self,feat,val,right,left):\n",
    "        featureToSsplitOn = feat\n",
    "        valueOfSplit =val\n",
    "        leftBranch = left"
   ]
  },
  {
   "cell_type": "code",
   "execution_count": 133,
   "metadata": {
    "collapsed": true
   },
   "outputs": [],
   "source": [
    "from numpy import linalg,mat,corrcoef,eye,nonzero\n",
    "import numpy as np\n",
    "import matplotlib.pyplot as plt\n",
    "\n",
    "def loadDataSet(fileName):      #general function to parse tab -delimited floats\n",
    "    dataMat = []                #assume last column is target value\n",
    "    fr = open(fileName)\n",
    "    for line in fr.readlines():\n",
    "        curLine = line.strip().split('\\t')\n",
    "        fltLine = list(map(float,curLine)) #map all elements to float()\n",
    "        dataMat.append(fltLine)\n",
    "    return dataMat"
   ]
  },
  {
   "cell_type": "code",
   "execution_count": 134,
   "metadata": {
    "collapsed": false
   },
   "outputs": [
    {
     "name": "stdout",
     "output_type": "stream",
     "text": [
      "total 96\r\n",
      "-rw-rw-r-- 1 xu  4235 2月  15  2011 bikeSpeedVsIq_test.txt\r\n",
      "-rw-rw-r-- 1 xu  4220 2月  15  2011 bikeSpeedVsIq_train.txt\r\n",
      "-rw-rw-r-- 1 xu  3846 2月   8  2011 ex00.txt\r\n",
      "-rw-rw-r-- 1 xu  5621 2月   8  2011 ex0.txt\r\n",
      "-rw-rw-r-- 1 xu  4064 2月   9  2011 ex2test.txt\r\n",
      "-rw-rw-r-- 1 xu  4069 2月   9  2011 ex2.txt\r\n",
      "-rw-rw-r-- 1 xu  3831 2月  10  2011 exp2.txt\r\n",
      "-rw-rw-r-- 1 xu  4011 2月  14  2011 expTest.txt\r\n",
      "-rw-rw-r-- 1 xu  3998 2月   9  2011 exp.txt\r\n",
      "-rw-rw-r-- 1 xu  5712 2月  15  2011 regTrees.py\r\n",
      "-rw-rw-r-- 1 xu  3879 2月  14  2011 sine.txt\r\n",
      "-rw-rw-r-- 1 xu  2383 2月  15  2011 treeExplore.py\r\n",
      "-rw-rw-r-- 1 xu 29906 5月  21 21:46 树回归.ipynb\r\n"
     ]
    }
   ],
   "source": [
    "ll"
   ]
  },
  {
   "cell_type": "code",
   "execution_count": 4,
   "metadata": {
    "collapsed": true
   },
   "outputs": [],
   "source": [
    "def binSplitDataSet(dataSet, feature, value):\n",
    "    mat0 = dataSet[nonzero(dataSet[:,feature]>value)[0],:][0]\n",
    "    mat1 = dataSet[nonzero(dataSet[:,feature]<=value)[0],:][0]\n",
    "    return mat0, mat1\n"
   ]
  },
  {
   "cell_type": "code",
   "execution_count": 94,
   "metadata": {
    "collapsed": false
   },
   "outputs": [],
   "source": [
    "def createTree(dataSet, leafType=regLeaf, errType = regErr, ops=(1,4)):\n",
    "    feat ,val = chooseBestSplit(dataSet,leafType,errType,ops)\n",
    "    if feat == None:return val\n",
    "    retTree = {}\n",
    "    retTree['spInd']=feat\n",
    "    retTree['spVal']=val\n",
    "    lSet, rSet = binSplitDataSet(dataSet,fet,val)\n",
    "    retTree['left'] = createTree(lSet,leafType,errType,ops)\n",
    "    retTree['right'] = createTree(rSet,leafType,errType,ops)\n",
    "    return retTree"
   ]
  },
  {
   "cell_type": "code",
   "execution_count": 5,
   "metadata": {
    "collapsed": false
   },
   "outputs": [],
   "source": [
    "testMat = mat(eye(4))"
   ]
  },
  {
   "cell_type": "code",
   "execution_count": 6,
   "metadata": {
    "collapsed": false,
    "scrolled": true
   },
   "outputs": [
    {
     "data": {
      "text/plain": [
       "matrix([[ 1.,  0.,  0.,  0.],\n",
       "        [ 0.,  1.,  0.,  0.],\n",
       "        [ 0.,  0.,  1.,  0.],\n",
       "        [ 0.,  0.,  0.,  1.]])"
      ]
     },
     "execution_count": 6,
     "metadata": {},
     "output_type": "execute_result"
    }
   ],
   "source": [
    "testMat"
   ]
  },
  {
   "cell_type": "code",
   "execution_count": 7,
   "metadata": {
    "collapsed": false
   },
   "outputs": [
    {
     "data": {
      "text/plain": [
       "(matrix([[ 0.,  1.,  0.,  0.]]), matrix([[ 1.,  0.,  0.,  0.]]))"
      ]
     },
     "execution_count": 7,
     "metadata": {},
     "output_type": "execute_result"
    }
   ],
   "source": [
    "binSplitDataSet(testMat,1,0.5)"
   ]
  },
  {
   "cell_type": "code",
   "execution_count": 8,
   "metadata": {
    "collapsed": false
   },
   "outputs": [
    {
     "data": {
      "text/plain": [
       "matrix([[ True,  True,  True,  True]], dtype=bool)"
      ]
     },
     "execution_count": 8,
     "metadata": {},
     "output_type": "execute_result"
    }
   ],
   "source": [
    "testMat[nonzero(testMat)]!=0"
   ]
  },
  {
   "cell_type": "code",
   "execution_count": 64,
   "metadata": {
    "collapsed": false,
    "scrolled": true
   },
   "outputs": [
    {
     "ename": "TypeError",
     "evalue": "list indices must be integers or slices, not tuple",
     "output_type": "error",
     "traceback": [
      "\u001b[0;31m---------------------------------------------------------------------------\u001b[0m",
      "\u001b[0;31mTypeError\u001b[0m                                 Traceback (most recent call last)",
      "\u001b[0;32m<ipython-input-64-cc857f45126b>\u001b[0m in \u001b[0;36m<module>\u001b[0;34m()\u001b[0m\n\u001b[0;32m----> 1\u001b[0;31m \u001b[0mtestMat\u001b[0m\u001b[0;34m.\u001b[0m\u001b[0mtolist\u001b[0m\u001b[0;34m(\u001b[0m\u001b[0;34m)\u001b[0m\u001b[0;34m[\u001b[0m\u001b[0;34m:\u001b[0m\u001b[0;34m,\u001b[0m\u001b[0;34m-\u001b[0m\u001b[0;36m1\u001b[0m\u001b[0;34m]\u001b[0m\u001b[0;34m\u001b[0m\u001b[0m\n\u001b[0m",
      "\u001b[0;31mTypeError\u001b[0m: list indices must be integers or slices, not tuple"
     ]
    }
   ],
   "source": [
    "testMat.tolist()[:,-1]"
   ]
  },
  {
   "cell_type": "code",
   "execution_count": 10,
   "metadata": {
    "collapsed": false
   },
   "outputs": [],
   "source": [
    "from pandas import DataFrame"
   ]
  },
  {
   "cell_type": "code",
   "execution_count": 144,
   "metadata": {
    "collapsed": false
   },
   "outputs": [],
   "source": [
    "from numpy import mean,var,square,shape,inf"
   ]
  },
  {
   "cell_type": "markdown",
   "metadata": {},
   "source": [
    "# chooseBestSplit"
   ]
  },
  {
   "cell_type": "code",
   "execution_count": 14,
   "metadata": {
    "collapsed": true
   },
   "outputs": [],
   "source": [
    "def regLeaf(dataSet):\n",
    "    return mean(dataSet[:,-1])"
   ]
  },
  {
   "cell_type": "code",
   "execution_count": 15,
   "metadata": {
    "collapsed": true
   },
   "outputs": [],
   "source": [
    "def regErr(dataSet):\n",
    "    return var(dataSet[:-1])*shape(dataSet)[0]"
   ]
  },
  {
   "cell_type": "code",
   "execution_count": 218,
   "metadata": {
    "collapsed": false
   },
   "outputs": [],
   "source": [
    "def chooseBestSplit(dataSet, leafType=regLeaf, errType=regErr,ops=(1,4)):\n",
    "    tolS = ops[0];tolN = ops[1]\n",
    "    if len(set(dataSet[:,-1].T.tolist()[0])) == 1:\n",
    "        print('1111111')\n",
    "        return None, leafType(dataSet)\n",
    "    m,n=shape(dataSet)\n",
    "    print(m,n)\n",
    "    S = errType(dataSet)\n",
    "    bestS = inf;bestIndex = 0; bestValue = 0\n",
    "    for featIndex in range(n-1):\n",
    "        for splitVal in set(dataSet[:,featIndex].T.tolist()[0]):\n",
    "            print('ininin')\n",
    "            mat0,mat1 = binSplitDataSet(dataSet,featIndex,splitVal)\n",
    "            if (shape(mat0)[0] < tolN) or (shape(mat1)[0] < tolN):\n",
    "                continue\n",
    "            newS = errType(mat0) +errType(mat1)\n",
    "            if newS < bestS:\n",
    "                bestIndex = featIndex\n",
    "                bestValue = splitVal\n",
    "                bestS = newS\n",
    "    if (S - bestS) < tolS:\n",
    "        print('2222222222')\n",
    "        return None, leafType(dataSet)\n",
    "    mat0, mat1 = binSplitDataSet(dataSet,bestIndex,bestValue)\n",
    "    if (shape(mat0)[0]<tolN) or (shape(mat1)[0]<tolN):\n",
    "        print('33333333333333')\n",
    "        return None,leafType(dataSet)\n",
    "    return bestIndex, bestValue"
   ]
  },
  {
   "cell_type": "code",
   "execution_count": 224,
   "metadata": {
    "collapsed": true
   },
   "outputs": [],
   "source": [
    "def chooseBestSplit(dataSet, leafType=regLeaf, errType=regErr, ops=(1,4)):\n",
    "    tolS = ops[0]; tolN = ops[1]\n",
    "    #if all the target variables are the same value: quit and return value\n",
    "    if len(set(dataSet[:,-1].T.tolist()[0])) == 1: #exit cond 1\n",
    "        return None, leafType(dataSet)\n",
    "    m,n = shape(dataSet)\n",
    "    #the choice of the best feature is driven by Reduction in RSS error from mean\n",
    "    S = errType(dataSet)\n",
    "    bestS = inf; bestIndex = 0; bestValue = 0\n",
    "    for featIndex in range(n-1):\n",
    "        for splitVal in set(dataSet[:,featIndex].T.tolist()[0]):\n",
    "            mat0, mat1 = binSplitDataSet(dataSet, featIndex, splitVal)\n",
    "            if (shape(mat0)[0] < tolN) or (shape(mat1)[0] < tolN): continue\n",
    "            newS = errType(mat0) + errType(mat1)\n",
    "            if newS < bestS: \n",
    "                bestIndex = featIndex\n",
    "                bestValue = splitVal\n",
    "                bestS = newS\n",
    "    #if the decrease (S-bestS) is less than a threshold don't do the split\n",
    "    if (S - bestS) < tolS: \n",
    "        return None, leafType(dataSet) #exit cond 2\n",
    "    mat0, mat1 = binSplitDataSet(dataSet, bestIndex, bestValue)\n",
    "    if (shape(mat0)[0] < tolN) or (shape(mat1)[0] < tolN):  #exit cond 3\n",
    "        return None, leafType(dataSet)\n",
    "    return bestIndex,bestValue#returns the best feature to split on\n",
    "                              #and the value used for that split\n"
   ]
  },
  {
   "cell_type": "markdown",
   "metadata": {},
   "source": [
    "#  测试"
   ]
  },
  {
   "cell_type": "code",
   "execution_count": 225,
   "metadata": {
    "collapsed": false
   },
   "outputs": [],
   "source": [
    "myDat = loadDataSet('ex00.txt')"
   ]
  },
  {
   "cell_type": "code",
   "execution_count": 226,
   "metadata": {
    "collapsed": true
   },
   "outputs": [],
   "source": [
    "myMat = mat(myDat)"
   ]
  },
  {
   "cell_type": "code",
   "execution_count": 227,
   "metadata": {
    "collapsed": false,
    "scrolled": true
   },
   "outputs": [
    {
     "ename": "IndexError",
     "evalue": "index 0 is out of bounds for axis 0 with size 0",
     "output_type": "error",
     "traceback": [
      "\u001b[0;31m---------------------------------------------------------------------------\u001b[0m",
      "\u001b[0;31mIndexError\u001b[0m                                Traceback (most recent call last)",
      "\u001b[0;32m<ipython-input-227-b7acc7b9a208>\u001b[0m in \u001b[0;36m<module>\u001b[0;34m()\u001b[0m\n\u001b[0;32m----> 1\u001b[0;31m \u001b[0mcreateTree\u001b[0m\u001b[0;34m(\u001b[0m\u001b[0mmyMat\u001b[0m\u001b[0;34m)\u001b[0m\u001b[0;34m\u001b[0m\u001b[0m\n\u001b[0m",
      "\u001b[0;32m<ipython-input-94-ce85b98f8e63>\u001b[0m in \u001b[0;36mcreateTree\u001b[0;34m(dataSet, leafType, errType, ops)\u001b[0m\n\u001b[1;32m      1\u001b[0m \u001b[0;32mdef\u001b[0m \u001b[0mcreateTree\u001b[0m\u001b[0;34m(\u001b[0m\u001b[0mdataSet\u001b[0m\u001b[0;34m,\u001b[0m \u001b[0mleafType\u001b[0m\u001b[0;34m=\u001b[0m\u001b[0mregLeaf\u001b[0m\u001b[0;34m,\u001b[0m \u001b[0merrType\u001b[0m \u001b[0;34m=\u001b[0m \u001b[0mregErr\u001b[0m\u001b[0;34m,\u001b[0m \u001b[0mops\u001b[0m\u001b[0;34m=\u001b[0m\u001b[0;34m(\u001b[0m\u001b[0;36m1\u001b[0m\u001b[0;34m,\u001b[0m\u001b[0;36m4\u001b[0m\u001b[0;34m)\u001b[0m\u001b[0;34m)\u001b[0m\u001b[0;34m:\u001b[0m\u001b[0;34m\u001b[0m\u001b[0m\n\u001b[0;32m----> 2\u001b[0;31m     \u001b[0mfeat\u001b[0m \u001b[0;34m,\u001b[0m\u001b[0mval\u001b[0m \u001b[0;34m=\u001b[0m \u001b[0mchooseBestSplit\u001b[0m\u001b[0;34m(\u001b[0m\u001b[0mdataSet\u001b[0m\u001b[0;34m,\u001b[0m\u001b[0mleafType\u001b[0m\u001b[0;34m,\u001b[0m\u001b[0merrType\u001b[0m\u001b[0;34m,\u001b[0m\u001b[0mops\u001b[0m\u001b[0;34m)\u001b[0m\u001b[0;34m\u001b[0m\u001b[0m\n\u001b[0m\u001b[1;32m      3\u001b[0m     \u001b[0;32mif\u001b[0m \u001b[0mfeat\u001b[0m \u001b[0;34m==\u001b[0m \u001b[0;32mNone\u001b[0m\u001b[0;34m:\u001b[0m\u001b[0;32mreturn\u001b[0m \u001b[0mval\u001b[0m\u001b[0;34m\u001b[0m\u001b[0m\n\u001b[1;32m      4\u001b[0m     \u001b[0mretTree\u001b[0m \u001b[0;34m=\u001b[0m \u001b[0;34m{\u001b[0m\u001b[0;34m}\u001b[0m\u001b[0;34m\u001b[0m\u001b[0m\n\u001b[1;32m      5\u001b[0m     \u001b[0mretTree\u001b[0m\u001b[0;34m[\u001b[0m\u001b[0;34m'spInd'\u001b[0m\u001b[0;34m]\u001b[0m\u001b[0;34m=\u001b[0m\u001b[0mfeat\u001b[0m\u001b[0;34m\u001b[0m\u001b[0m\n",
      "\u001b[0;32m<ipython-input-224-377f38f35a3c>\u001b[0m in \u001b[0;36mchooseBestSplit\u001b[0;34m(dataSet, leafType, errType, ops)\u001b[0m\n\u001b[1;32m     10\u001b[0m     \u001b[0;32mfor\u001b[0m \u001b[0mfeatIndex\u001b[0m \u001b[0;32min\u001b[0m \u001b[0mrange\u001b[0m\u001b[0;34m(\u001b[0m\u001b[0mn\u001b[0m\u001b[0;34m-\u001b[0m\u001b[0;36m1\u001b[0m\u001b[0;34m)\u001b[0m\u001b[0;34m:\u001b[0m\u001b[0;34m\u001b[0m\u001b[0m\n\u001b[1;32m     11\u001b[0m         \u001b[0;32mfor\u001b[0m \u001b[0msplitVal\u001b[0m \u001b[0;32min\u001b[0m \u001b[0mset\u001b[0m\u001b[0;34m(\u001b[0m\u001b[0mdataSet\u001b[0m\u001b[0;34m[\u001b[0m\u001b[0;34m:\u001b[0m\u001b[0;34m,\u001b[0m\u001b[0mfeatIndex\u001b[0m\u001b[0;34m]\u001b[0m\u001b[0;34m.\u001b[0m\u001b[0mT\u001b[0m\u001b[0;34m.\u001b[0m\u001b[0mtolist\u001b[0m\u001b[0;34m(\u001b[0m\u001b[0;34m)\u001b[0m\u001b[0;34m[\u001b[0m\u001b[0;36m0\u001b[0m\u001b[0;34m]\u001b[0m\u001b[0;34m)\u001b[0m\u001b[0;34m:\u001b[0m\u001b[0;34m\u001b[0m\u001b[0m\n\u001b[0;32m---> 12\u001b[0;31m             \u001b[0mmat0\u001b[0m\u001b[0;34m,\u001b[0m \u001b[0mmat1\u001b[0m \u001b[0;34m=\u001b[0m \u001b[0mbinSplitDataSet\u001b[0m\u001b[0;34m(\u001b[0m\u001b[0mdataSet\u001b[0m\u001b[0;34m,\u001b[0m \u001b[0mfeatIndex\u001b[0m\u001b[0;34m,\u001b[0m \u001b[0msplitVal\u001b[0m\u001b[0;34m)\u001b[0m\u001b[0;34m\u001b[0m\u001b[0m\n\u001b[0m\u001b[1;32m     13\u001b[0m             \u001b[0;32mif\u001b[0m \u001b[0;34m(\u001b[0m\u001b[0mshape\u001b[0m\u001b[0;34m(\u001b[0m\u001b[0mmat0\u001b[0m\u001b[0;34m)\u001b[0m\u001b[0;34m[\u001b[0m\u001b[0;36m0\u001b[0m\u001b[0;34m]\u001b[0m \u001b[0;34m<\u001b[0m \u001b[0mtolN\u001b[0m\u001b[0;34m)\u001b[0m \u001b[0;32mor\u001b[0m \u001b[0;34m(\u001b[0m\u001b[0mshape\u001b[0m\u001b[0;34m(\u001b[0m\u001b[0mmat1\u001b[0m\u001b[0;34m)\u001b[0m\u001b[0;34m[\u001b[0m\u001b[0;36m0\u001b[0m\u001b[0;34m]\u001b[0m \u001b[0;34m<\u001b[0m \u001b[0mtolN\u001b[0m\u001b[0;34m)\u001b[0m\u001b[0;34m:\u001b[0m \u001b[0;32mcontinue\u001b[0m\u001b[0;34m\u001b[0m\u001b[0m\n\u001b[1;32m     14\u001b[0m             \u001b[0mnewS\u001b[0m \u001b[0;34m=\u001b[0m \u001b[0merrType\u001b[0m\u001b[0;34m(\u001b[0m\u001b[0mmat0\u001b[0m\u001b[0;34m)\u001b[0m \u001b[0;34m+\u001b[0m \u001b[0merrType\u001b[0m\u001b[0;34m(\u001b[0m\u001b[0mmat1\u001b[0m\u001b[0;34m)\u001b[0m\u001b[0;34m\u001b[0m\u001b[0m\n",
      "\u001b[0;32m<ipython-input-4-a91983cfecc6>\u001b[0m in \u001b[0;36mbinSplitDataSet\u001b[0;34m(dataSet, feature, value)\u001b[0m\n\u001b[1;32m      1\u001b[0m \u001b[0;32mdef\u001b[0m \u001b[0mbinSplitDataSet\u001b[0m\u001b[0;34m(\u001b[0m\u001b[0mdataSet\u001b[0m\u001b[0;34m,\u001b[0m \u001b[0mfeature\u001b[0m\u001b[0;34m,\u001b[0m \u001b[0mvalue\u001b[0m\u001b[0;34m)\u001b[0m\u001b[0;34m:\u001b[0m\u001b[0;34m\u001b[0m\u001b[0m\n\u001b[0;32m----> 2\u001b[0;31m     \u001b[0mmat0\u001b[0m \u001b[0;34m=\u001b[0m \u001b[0mdataSet\u001b[0m\u001b[0;34m[\u001b[0m\u001b[0mnonzero\u001b[0m\u001b[0;34m(\u001b[0m\u001b[0mdataSet\u001b[0m\u001b[0;34m[\u001b[0m\u001b[0;34m:\u001b[0m\u001b[0;34m,\u001b[0m\u001b[0mfeature\u001b[0m\u001b[0;34m]\u001b[0m\u001b[0;34m>\u001b[0m\u001b[0mvalue\u001b[0m\u001b[0;34m)\u001b[0m\u001b[0;34m[\u001b[0m\u001b[0;36m0\u001b[0m\u001b[0;34m]\u001b[0m\u001b[0;34m,\u001b[0m\u001b[0;34m:\u001b[0m\u001b[0;34m]\u001b[0m\u001b[0;34m[\u001b[0m\u001b[0;36m0\u001b[0m\u001b[0;34m]\u001b[0m\u001b[0;34m\u001b[0m\u001b[0m\n\u001b[0m\u001b[1;32m      3\u001b[0m     \u001b[0mmat1\u001b[0m \u001b[0;34m=\u001b[0m \u001b[0mdataSet\u001b[0m\u001b[0;34m[\u001b[0m\u001b[0mnonzero\u001b[0m\u001b[0;34m(\u001b[0m\u001b[0mdataSet\u001b[0m\u001b[0;34m[\u001b[0m\u001b[0;34m:\u001b[0m\u001b[0;34m,\u001b[0m\u001b[0mfeature\u001b[0m\u001b[0;34m]\u001b[0m\u001b[0;34m<=\u001b[0m\u001b[0mvalue\u001b[0m\u001b[0;34m)\u001b[0m\u001b[0;34m[\u001b[0m\u001b[0;36m0\u001b[0m\u001b[0;34m]\u001b[0m\u001b[0;34m,\u001b[0m\u001b[0;34m:\u001b[0m\u001b[0;34m]\u001b[0m\u001b[0;34m[\u001b[0m\u001b[0;36m0\u001b[0m\u001b[0;34m]\u001b[0m\u001b[0;34m\u001b[0m\u001b[0m\n\u001b[1;32m      4\u001b[0m     \u001b[0;32mreturn\u001b[0m \u001b[0mmat0\u001b[0m\u001b[0;34m,\u001b[0m \u001b[0mmat1\u001b[0m\u001b[0;34m\u001b[0m\u001b[0m\n",
      "\u001b[0;32m/home/xu/venv/lib/python3.5/site-packages/numpy/matrixlib/defmatrix.py\u001b[0m in \u001b[0;36m__getitem__\u001b[0;34m(self, index)\u001b[0m\n\u001b[1;32m    316\u001b[0m \u001b[0;34m\u001b[0m\u001b[0m\n\u001b[1;32m    317\u001b[0m         \u001b[0;32mtry\u001b[0m\u001b[0;34m:\u001b[0m\u001b[0;34m\u001b[0m\u001b[0m\n\u001b[0;32m--> 318\u001b[0;31m             \u001b[0mout\u001b[0m \u001b[0;34m=\u001b[0m \u001b[0mN\u001b[0m\u001b[0;34m.\u001b[0m\u001b[0mndarray\u001b[0m\u001b[0;34m.\u001b[0m\u001b[0m__getitem__\u001b[0m\u001b[0;34m(\u001b[0m\u001b[0mself\u001b[0m\u001b[0;34m,\u001b[0m \u001b[0mindex\u001b[0m\u001b[0;34m)\u001b[0m\u001b[0;34m\u001b[0m\u001b[0m\n\u001b[0m\u001b[1;32m    319\u001b[0m         \u001b[0;32mfinally\u001b[0m\u001b[0;34m:\u001b[0m\u001b[0;34m\u001b[0m\u001b[0m\n\u001b[1;32m    320\u001b[0m             \u001b[0mself\u001b[0m\u001b[0;34m.\u001b[0m\u001b[0m_getitem\u001b[0m \u001b[0;34m=\u001b[0m \u001b[0;32mFalse\u001b[0m\u001b[0;34m\u001b[0m\u001b[0m\n",
      "\u001b[0;31mIndexError\u001b[0m: index 0 is out of bounds for axis 0 with size 0"
     ]
    }
   ],
   "source": [
    "createTree(myMat)"
   ]
  },
  {
   "cell_type": "code",
   "execution_count": 211,
   "metadata": {
    "collapsed": false
   },
   "outputs": [
    {
     "data": {
      "text/plain": [
       "{0.000234,\n",
       " 0.007044,\n",
       " 0.008307,\n",
       " 0.009849,\n",
       " 0.014083,\n",
       " 0.036098,\n",
       " 0.036492,\n",
       " 0.048014,\n",
       " 0.065615,\n",
       " 0.066172,\n",
       " 0.071769,\n",
       " 0.072243,\n",
       " 0.074795,\n",
       " 0.081931,\n",
       " 0.084248,\n",
       " 0.091358,\n",
       " 0.096994,\n",
       " 0.098016,\n",
       " 0.099142,\n",
       " 0.101149,\n",
       " 0.118156,\n",
       " 0.129061,\n",
       " 0.130052,\n",
       " 0.130962,\n",
       " 0.132543,\n",
       " 0.1333,\n",
       " 0.145809,\n",
       " 0.146366,\n",
       " 0.148049,\n",
       " 0.152324,\n",
       " 0.180506,\n",
       " 0.18351,\n",
       " 0.188218,\n",
       " 0.193641,\n",
       " 0.196005,\n",
       " 0.202054,\n",
       " 0.203693,\n",
       " 0.210334,\n",
       " 0.233115,\n",
       " 0.23807,\n",
       " 0.242204,\n",
       " 0.243909,\n",
       " 0.250744,\n",
       " 0.252649,\n",
       " 0.268857,\n",
       " 0.269681,\n",
       " 0.273147,\n",
       " 0.27394,\n",
       " 0.278661,\n",
       " 0.280738,\n",
       " 0.295511,\n",
       " 0.302001,\n",
       " 0.302217,\n",
       " 0.30554,\n",
       " 0.306964,\n",
       " 0.314924,\n",
       " 0.323181,\n",
       " 0.325412,\n",
       " 0.332982,\n",
       " 0.3371,\n",
       " 0.339563,\n",
       " 0.343479,\n",
       " 0.343554,\n",
       " 0.344102,\n",
       " 0.346986,\n",
       " 0.347837,\n",
       " 0.348013,\n",
       " 0.355688,\n",
       " 0.360323,\n",
       " 0.362314,\n",
       " 0.377201,\n",
       " 0.377597,\n",
       " 0.378595,\n",
       " 0.401152,\n",
       " 0.406649,\n",
       " 0.41023,\n",
       " 0.429664,\n",
       " 0.438367,\n",
       " 0.448656,\n",
       " 0.44928,\n",
       " 0.458121,\n",
       " 0.465625,\n",
       " 0.475976,\n",
       " 0.48813,\n",
       " 0.50794,\n",
       " 0.514563,\n",
       " 0.517921,\n",
       " 0.518735,\n",
       " 0.520044,\n",
       " 0.520207,\n",
       " 0.527505,\n",
       " 0.529491,\n",
       " 0.530897,\n",
       " 0.536689,\n",
       " 0.539558,\n",
       " 0.541314,\n",
       " 0.552381,\n",
       " 0.55299,\n",
       " 0.55352,\n",
       " 0.559763,\n",
       " 0.561362,\n",
       " 0.567704,\n",
       " 0.574573,\n",
       " 0.575805,\n",
       " 0.576946,\n",
       " 0.578252,\n",
       " 0.589575,\n",
       " 0.590062,\n",
       " 0.59021,\n",
       " 0.595012,\n",
       " 0.597409,\n",
       " 0.604529,\n",
       " 0.61127,\n",
       " 0.613765,\n",
       " 0.620599,\n",
       " 0.622398,\n",
       " 0.625336,\n",
       " 0.625791,\n",
       " 0.626011,\n",
       " 0.643601,\n",
       " 0.643665,\n",
       " 0.645762,\n",
       " 0.648675,\n",
       " 0.651376,\n",
       " 0.652121,\n",
       " 0.656218,\n",
       " 0.661923,\n",
       " 0.6632,\n",
       " 0.66387,\n",
       " 0.673195,\n",
       " 0.678287,\n",
       " 0.67939,\n",
       " 0.683886,\n",
       " 0.683921,\n",
       " 0.691115,\n",
       " 0.696648,\n",
       " 0.697718,\n",
       " 0.697777,\n",
       " 0.703755,\n",
       " 0.712386,\n",
       " 0.712503,\n",
       " 0.72312,\n",
       " 0.726828,\n",
       " 0.727098,\n",
       " 0.729234,\n",
       " 0.737189,\n",
       " 0.742527,\n",
       " 0.750078,\n",
       " 0.750918,\n",
       " 0.761474,\n",
       " 0.768596,\n",
       " 0.768784,\n",
       " 0.772083,\n",
       " 0.773168,\n",
       " 0.773422,\n",
       " 0.774301,\n",
       " 0.78193,\n",
       " 0.782167,\n",
       " 0.785541,\n",
       " 0.789625,\n",
       " 0.79024,\n",
       " 0.795072,\n",
       " 0.804586,\n",
       " 0.813719,\n",
       " 0.814825,\n",
       " 0.819823,\n",
       " 0.820802,\n",
       " 0.821648,\n",
       " 0.822443,\n",
       " 0.824442,\n",
       " 0.834078,\n",
       " 0.837522,\n",
       " 0.845815,\n",
       " 0.846455,\n",
       " 0.848921,\n",
       " 0.860049,\n",
       " 0.869077,\n",
       " 0.877241,\n",
       " 0.884512,\n",
       " 0.89593,\n",
       " 0.897094,\n",
       " 0.900272,\n",
       " 0.901056,\n",
       " 0.902532,\n",
       " 0.919074,\n",
       " 0.919384,\n",
       " 0.928097,\n",
       " 0.930173,\n",
       " 0.936783,\n",
       " 0.948268,\n",
       " 0.950153,\n",
       " 0.951949,\n",
       " 0.953112,\n",
       " 0.975022,\n",
       " 0.976414,\n",
       " 0.985425,\n",
       " 0.988852,\n",
       " 0.989888,\n",
       " 0.993349,\n",
       " 0.996757}"
      ]
     },
     "execution_count": 211,
     "metadata": {},
     "output_type": "execute_result"
    }
   ],
   "source": [
    "set(myMat[:,0].T.tolist()[0])"
   ]
  },
  {
   "cell_type": "code",
   "execution_count": 109,
   "metadata": {
    "collapsed": false
   },
   "outputs": [
    {
     "ename": "AttributeError",
     "evalue": "'matrix' object has no attribute 'to_list'",
     "output_type": "error",
     "traceback": [
      "\u001b[0;31m---------------------------------------------------------------------------\u001b[0m",
      "\u001b[0;31mAttributeError\u001b[0m                            Traceback (most recent call last)",
      "\u001b[0;32m<ipython-input-109-191a9f0707dc>\u001b[0m in \u001b[0;36m<module>\u001b[0;34m()\u001b[0m\n\u001b[0;32m----> 1\u001b[0;31m \u001b[0mmyMat\u001b[0m\u001b[0;34m[\u001b[0m\u001b[0;34m:\u001b[0m\u001b[0;34m,\u001b[0m\u001b[0;34m-\u001b[0m\u001b[0;36m1\u001b[0m\u001b[0;34m]\u001b[0m\u001b[0;34m.\u001b[0m\u001b[0mT\u001b[0m\u001b[0;34m.\u001b[0m\u001b[0mto_list\u001b[0m\u001b[0;34m(\u001b[0m\u001b[0;34m)\u001b[0m\u001b[0;34m\u001b[0m\u001b[0m\n\u001b[0m",
      "\u001b[0;31mAttributeError\u001b[0m: 'matrix' object has no attribute 'to_list'"
     ]
    }
   ],
   "source": [
    "myMat[:,-1].T.to_list()"
   ]
  }
 ],
 "metadata": {
  "kernelspec": {
   "display_name": "Python 3",
   "language": "python",
   "name": "python3"
  },
  "language_info": {
   "codemirror_mode": {
    "name": "ipython",
    "version": 3
   },
   "file_extension": ".py",
   "mimetype": "text/x-python",
   "name": "python",
   "nbconvert_exporter": "python",
   "pygments_lexer": "ipython3",
   "version": "3.5.2"
  },
  "toc": {
   "colors": {
    "hover_highlight": "#DAA520",
    "running_highlight": "#FF0000",
    "selected_highlight": "#FFD700"
   },
   "moveMenuLeft": true,
   "nav_menu": {
    "height": "11px",
    "width": "251px"
   },
   "navigate_menu": true,
   "number_sections": true,
   "sideBar": true,
   "threshold": 4,
   "toc_cell": false,
   "toc_section_display": "block",
   "toc_window_display": false
  }
 },
 "nbformat": 4,
 "nbformat_minor": 1
}
