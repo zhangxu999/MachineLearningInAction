{
 "cells": [
  {
   "cell_type": "code",
   "execution_count": 1,
   "metadata": {
    "collapsed": true
   },
   "outputs": [],
   "source": [
    "thing = {1:'豆奶',2:'莴苣',3:'尿布',4:'葡萄酒',5:'甜菜',6:'橙汁'}"
   ]
  },
  {
   "cell_type": "code",
   "execution_count": 2,
   "metadata": {
    "collapsed": true
   },
   "outputs": [],
   "source": [
    "trade_list = [[1,2],[2,3,4,5],[1,3,4,6],[2,1,3,4],[2,1,3,6]]"
   ]
  },
  {
   "cell_type": "code",
   "execution_count": 13,
   "metadata": {
    "collapsed": false,
    "scrolled": true
   },
   "outputs": [],
   "source": [
    "import itertools\n",
    "def link_things(list1):\n",
    "    list2 = []\n",
    "    for i in range(2,len(list1)+1):\n",
    "        iter = itertools.combinations(list1,i)\n",
    "        list2+=list(iter)\n",
    "    return list2"
   ]
  },
  {
   "cell_type": "code",
   "execution_count": 10,
   "metadata": {
    "collapsed": false
   },
   "outputs": [
    {
     "data": {
      "text/plain": [
       "[('a', 'b', 'c', 'd')]"
      ]
     },
     "execution_count": 10,
     "metadata": {},
     "output_type": "execute_result"
    }
   ],
   "source": [
    "list(itertools.combinations(list1,4))"
   ]
  },
  {
   "cell_type": "code",
   "execution_count": 14,
   "metadata": {
    "collapsed": true
   },
   "outputs": [],
   "source": [
    "from collections import defaultdict"
   ]
  },
  {
   "cell_type": "code",
   "execution_count": 52,
   "metadata": {
    "collapsed": false
   },
   "outputs": [],
   "source": [
    "Ranks = defaultdict(int)"
   ]
  },
  {
   "cell_type": "code",
   "execution_count": 46,
   "metadata": {
    "collapsed": true
   },
   "outputs": [],
   "source": [
    "Ranks['a']+=1"
   ]
  },
  {
   "cell_type": "code",
   "execution_count": 30,
   "metadata": {
    "collapsed": false
   },
   "outputs": [
    {
     "data": {
      "text/plain": [
       "True"
      ]
     },
     "execution_count": 30,
     "metadata": {},
     "output_type": "execute_result"
    }
   ],
   "source": [
    "set(list((3,5)))== set(list((5,3)))"
   ]
  },
  {
   "cell_type": "code",
   "execution_count": 51,
   "metadata": {
    "collapsed": false
   },
   "outputs": [
    {
     "data": {
      "text/plain": [
       "defaultdict(int, {(2, 3, 4): 2, 'a': 1})"
      ]
     },
     "execution_count": 51,
     "metadata": {},
     "output_type": "execute_result"
    }
   ],
   "source": [
    "Ranks"
   ]
  },
  {
   "cell_type": "code",
   "execution_count": 48,
   "metadata": {
    "collapsed": false,
    "scrolled": true
   },
   "outputs": [],
   "source": [
    "def add_one(x):\n",
    "    Ranks[tuple(set(list(x)))] += 1"
   ]
  },
  {
   "cell_type": "code",
   "execution_count": 50,
   "metadata": {
    "collapsed": false
   },
   "outputs": [],
   "source": [
    "add_one((2,3,4))"
   ]
  },
  {
   "cell_type": "code",
   "execution_count": 53,
   "metadata": {
    "collapsed": false
   },
   "outputs": [],
   "source": [
    "for t in trade_list:\n",
    "    all_links =link_things(t)\n",
    "    list(map(add_one,all_links))"
   ]
  },
  {
   "cell_type": "code",
   "execution_count": 66,
   "metadata": {
    "collapsed": false
   },
   "outputs": [],
   "source": [
    "afterd = sorted(Ranks.items(),key=lambda x:x[1],reverse=True)"
   ]
  },
  {
   "cell_type": "code",
   "execution_count": 68,
   "metadata": {
    "collapsed": false
   },
   "outputs": [
    {
     "data": {
      "text/plain": [
       "('a', 'b', 'c', 'd')"
      ]
     },
     "execution_count": 68,
     "metadata": {},
     "output_type": "execute_result"
    }
   ],
   "source": [
    "tuple(i for i in 'abcd')"
   ]
  },
  {
   "cell_type": "code",
   "execution_count": 70,
   "metadata": {
    "collapsed": false
   },
   "outputs": [
    {
     "data": {
      "text/plain": [
       "[[('豆奶', '尿布'), 3],\n",
       " [('豆奶', '莴苣'), 3],\n",
       " [('莴苣', '尿布'), 3],\n",
       " [('尿布', '葡萄酒'), 3],\n",
       " [('豆奶', '葡萄酒'), 2],\n",
       " [('豆奶', '莴苣', '尿布'), 2],\n",
       " [('豆奶', '橙汁'), 2],\n",
       " [('莴苣', '尿布', '葡萄酒'), 2],\n",
       " [('豆奶', '尿布', '橙汁'), 2],\n",
       " [('尿布', '橙汁'), 2],\n",
       " [('豆奶', '尿布', '葡萄酒'), 2],\n",
       " [('莴苣', '葡萄酒'), 2],\n",
       " [('尿布', '葡萄酒', '橙汁'), 1],\n",
       " [('莴苣', '尿布', '甜菜'), 1],\n",
       " [('莴苣', '葡萄酒', '甜菜'), 1],\n",
       " [('葡萄酒', '甜菜'), 1],\n",
       " [('莴苣', '尿布', '橙汁'), 1],\n",
       " [('豆奶', '莴苣', '尿布', '葡萄酒'), 1],\n",
       " [('豆奶', '莴苣', '尿布', '橙汁'), 1],\n",
       " [('莴苣', '橙汁'), 1],\n",
       " [('豆奶', '莴苣', '葡萄酒'), 1],\n",
       " [('尿布', '葡萄酒', '甜菜'), 1],\n",
       " [('莴苣', '甜菜'), 1],\n",
       " [('莴苣', '尿布', '葡萄酒', '甜菜'), 1],\n",
       " [('尿布', '甜菜'), 1],\n",
       " [('豆奶', '莴苣', '橙汁'), 1],\n",
       " [('葡萄酒', '橙汁'), 1],\n",
       " [('豆奶', '尿布', '葡萄酒', '橙汁'), 1],\n",
       " [('豆奶', '葡萄酒', '橙汁'), 1]]"
      ]
     },
     "execution_count": 70,
     "metadata": {},
     "output_type": "execute_result"
    }
   ],
   "source": [
    "[[tuple(thing[b] for b in k),v] for k,v in afterd]"
   ]
  },
  {
   "cell_type": "code",
   "execution_count": 58,
   "metadata": {
    "collapsed": false
   },
   "outputs": [
    {
     "data": {
      "text/plain": [
       "{(1, 2): 6,\n",
       " (1, 2, 3): 6,\n",
       " (1, 2, 3, 4): 4,\n",
       " (1, 2, 3, 6): 4,\n",
       " (1, 2, 4): 3,\n",
       " (1, 2, 6): 3,\n",
       " (1, 3): 6,\n",
       " (1, 3, 4): 6,\n",
       " (1, 3, 4, 6): 4,\n",
       " (1, 3, 6): 6,\n",
       " (1, 4): 4,\n",
       " (1, 4, 6): 3,\n",
       " (1, 6): 4,\n",
       " (2, 3): 6,\n",
       " (2, 3, 4): 6,\n",
       " (2, 3, 4, 5): 4,\n",
       " (2, 3, 5): 3,\n",
       " (2, 3, 6): 3,\n",
       " (2, 4): 4,\n",
       " (2, 4, 5): 3,\n",
       " (2, 5): 2,\n",
       " (2, 6): 2,\n",
       " (3, 4): 6,\n",
       " (3, 4, 5): 3,\n",
       " (3, 4, 6): 3,\n",
       " (3, 5): 2,\n",
       " (3, 6): 4,\n",
       " (4, 5): 2,\n",
       " (4, 6): 2}"
      ]
     },
     "execution_count": 58,
     "metadata": {},
     "output_type": "execute_result"
    }
   ],
   "source": [
    "{:v*len(k) for k,v in Ranks.items()}"
   ]
  },
  {
   "cell_type": "code",
   "execution_count": null,
   "metadata": {
    "collapsed": true
   },
   "outputs": [],
   "source": []
  }
 ],
 "metadata": {
  "kernelspec": {
   "display_name": "Python 3",
   "language": "python",
   "name": "python3"
  },
  "language_info": {
   "codemirror_mode": {
    "name": "ipython",
    "version": 3
   },
   "file_extension": ".py",
   "mimetype": "text/x-python",
   "name": "python",
   "nbconvert_exporter": "python",
   "pygments_lexer": "ipython3",
   "version": "3.5.2"
  },
  "toc": {
   "colors": {
    "hover_highlight": "#DAA520",
    "running_highlight": "#FF0000",
    "selected_highlight": "#FFD700"
   },
   "moveMenuLeft": true,
   "nav_menu": {
    "height": "11px",
    "width": "251px"
   },
   "navigate_menu": true,
   "number_sections": true,
   "sideBar": true,
   "threshold": 4,
   "toc_cell": false,
   "toc_section_display": "block",
   "toc_window_display": false
  }
 },
 "nbformat": 4,
 "nbformat_minor": 2
}
