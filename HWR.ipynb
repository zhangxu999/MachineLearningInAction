{
 "cells": [
  {
   "cell_type": "markdown",
   "metadata": {},
   "source": [
    "#  手写识别系统"
   ]
  },
  {
   "cell_type": "markdown",
   "metadata": {},
   "source": [
    "##  2.3.1 将图像转换为测试向量"
   ]
  },
  {
   "cell_type": "code",
   "execution_count": 3,
   "metadata": {
    "collapsed": true
   },
   "outputs": [],
   "source": [
    "from numpy import *\n",
    "import operator"
   ]
  },
  {
   "cell_type": "code",
   "execution_count": 1,
   "metadata": {
    "collapsed": true,
    "slideshow": {
     "slide_type": "-"
    }
   },
   "outputs": [],
   "source": [
    "def img2vector(filename):\n",
    "    returnVect = zeros((1,1024))\n",
    "    fr = open(filename)\n",
    "    for i in range(32):\n",
    "        linestr = fr.readline()\n",
    "        for j in range(32):\n",
    "            returnVect[0,32*i+j] = int(linestr[j])\n",
    "    return returnVect"
   ]
  },
  {
   "cell_type": "code",
   "execution_count": 17,
   "metadata": {
    "collapsed": true
   },
   "outputs": [],
   "source": [
    "def classify0(inX, dataSet, labels, k):\n",
    "    dataSetSize = dataSet.shape[0]\n",
    "    diffMat = tile(inX, (dataSetSize,1)) - dataSet\n",
    "    sqDiffMat = diffMat**2\n",
    "    sqDistances = sqDiffMat.sum(axis=1)\n",
    "    distances = sqDistances**0.5\n",
    "    sortedDistIndicies = distances.argsort()     \n",
    "    classCount={}          \n",
    "    for i in range(k):\n",
    "        voteIlabel = labels[sortedDistIndicies[i]]\n",
    "        classCount[voteIlabel] = classCount.get(voteIlabel,0) + 1\n",
    "    sortedClassCount = sorted(classCount.items(), key=operator.itemgetter(1), reverse=True)\n",
    "    return sortedClassCount[0][0]"
   ]
  },
  {
   "cell_type": "code",
   "execution_count": 4,
   "metadata": {
    "collapsed": false
   },
   "outputs": [],
   "source": [
    "testVector = img2vector('trainingDigits/0_13.txt')"
   ]
  },
  {
   "cell_type": "code",
   "execution_count": 8,
   "metadata": {
    "collapsed": false
   },
   "outputs": [
    {
     "data": {
      "text/plain": [
       "(1, 1024)"
      ]
     },
     "execution_count": 8,
     "metadata": {},
     "output_type": "execute_result"
    }
   ],
   "source": [
    "testVector.shape"
   ]
  },
  {
   "cell_type": "code",
   "execution_count": 13,
   "metadata": {
    "collapsed": false
   },
   "outputs": [
    {
     "data": {
      "text/plain": [
       "array([ 0.,  0.,  0.,  0.,  0.,  0.,  0.,  0.,  0.,  0.,  0.,  0.,  0.,\n",
       "        0.,  0.,  1.,  1.,  1.,  0.,  0.,  0.,  0.,  0.,  0.,  0.,  0.,\n",
       "        0.,  0.,  0.,  0.,  0.])"
      ]
     },
     "execution_count": 13,
     "metadata": {},
     "output_type": "execute_result"
    }
   ],
   "source": [
    "testVector[0,0:31]"
   ]
  },
  {
   "cell_type": "code",
   "execution_count": 14,
   "metadata": {
    "collapsed": false
   },
   "outputs": [
    {
     "data": {
      "text/plain": [
       "array([ 0.,  0.,  0.,  0.,  0.,  0.,  0.,  0.,  0.,  0.,  0.,  0.,  0.,\n",
       "        1.,  1.,  1.,  1.,  1.,  1.,  0.,  0.,  0.,  0.,  0.,  0.,  0.,\n",
       "        0.,  0.,  0.,  0.,  0.])"
      ]
     },
     "execution_count": 14,
     "metadata": {},
     "output_type": "execute_result"
    }
   ],
   "source": [
    "testVector[0,32:63]"
   ]
  },
  {
   "cell_type": "markdown",
   "metadata": {},
   "source": [
    "##  2.3.2 测试算法，使用k-近邻算法识别手写数据"
   ]
  },
  {
   "cell_type": "code",
   "execution_count": 16,
   "metadata": {
    "collapsed": true
   },
   "outputs": [],
   "source": [
    "from os import listdir"
   ]
  },
  {
   "cell_type": "code",
   "execution_count": 48,
   "metadata": {
    "collapsed": true
   },
   "outputs": [],
   "source": [
    "def handwritingClasstest():\n",
    "    print('begin:',time.ctime())\n",
    "    hwlabels = []\n",
    "    trainingFileList = listdir('trainingDigits')\n",
    "    m = len(trainingFileList)\n",
    "    trainMat = zeros((m,1024))\n",
    "    for i in range(m):\n",
    "        filenamestr = trainingFileList[i]\n",
    "        classnumstr = int(filenamestr.split('_')[0])\n",
    "        hwlabels.append(classnumstr)\n",
    "        trainMat[i,:] = img2vector('trainingDigits/%s'%filenamestr)\n",
    "    print('load train data complete',time.ctime())\n",
    "    testFileList = listdir('testDigits')\n",
    "    errorcount = 0\n",
    "    mtest = len(testFileList)\n",
    "    for i in range(mtest):\n",
    "        filenamestr = testFileList[i]\n",
    "        classnumstr = int(filenamestr.split('_')[0])\n",
    "        vectorUndertest = img2vector(\"testDigits/%s\"%filenamestr)\n",
    "        classifierResult = classify0(vectorUndertest,trainMat,hwlabels,5)\n",
    "        #print((classifierResult,classnumstr),end=',')\n",
    "        if classifierResult != classnumstr:\n",
    "            errorcount += 1\n",
    "    print(\"error count: %d  ,error rate:%f \"%(errorcount,errorcount/float(mtest)))"
   ]
  },
  {
   "cell_type": "code",
   "execution_count": 49,
   "metadata": {
    "collapsed": false,
    "scrolled": true
   },
   "outputs": [
    {
     "name": "stdout",
     "output_type": "stream",
     "text": [
      "begin: Sun Nov 20 17:38:10 2016\n",
      "load train data complete Sun Nov 20 17:38:11 2016\n",
      "error count: 27  ,error rate:0.021739 \n",
      "time:10.877452\n"
     ]
    }
   ],
   "source": [
    "import time\n",
    "time_s = time.time()\n",
    "handwritingClasstest()\n",
    "time_e = time.time()\n",
    "print('time:%f'%(time_e-time_s))"
   ]
  },
  {
   "cell_type": "code",
   "execution_count": 37,
   "metadata": {
    "collapsed": false,
    "scrolled": true
   },
   "outputs": [
    {
     "ename": "KeyError",
     "evalue": "7",
     "output_type": "error",
     "traceback": [
      "\u001b[0;31m--------------------------------------------------------------------------\u001b[0m",
      "\u001b[0;31mKeyError\u001b[0m                                 Traceback (most recent call last)",
      "\u001b[0;32m<ipython-input-37-f3e52e14f9aa>\u001b[0m in \u001b[0;36m<module>\u001b[0;34m()\u001b[0m\n\u001b[0;32m----> 1\u001b[0;31m \u001b[0mtest_dict\u001b[0m\u001b[0;34m[\u001b[0m\u001b[0;36m7\u001b[0m\u001b[0;34m]\u001b[0m\u001b[0;34m\u001b[0m\u001b[0m\n\u001b[0m",
      "\u001b[0;31mKeyError\u001b[0m: 7"
     ]
    }
   ],
   "source": []
  },
  {
   "cell_type": "code",
   "execution_count": 44,
   "metadata": {
    "collapsed": false
   },
   "outputs": [
    {
     "name": "stdout",
     "output_type": "stream",
     "text": [
      "[('0', 189), ('1', 198), ('2', 195), ('3', 199), ('4', 186), ('5', 187), ('6', 195), ('7', 201), ('8', 180), ('9', 204)]\n",
      "[('0', 87), ('1', 97), ('2', 92), ('3', 85), ('4', 114), ('5', 108), ('6', 87), ('7', 96), ('8', 91), ('9', 89)]\n"
     ]
    }
   ],
   "source": [
    "train_dir = 'trainingDigits'\n",
    "test_dir = 'testDigits/'\n",
    "train_dict = {}\n",
    "test_dict = {}\n",
    "for i in listdir(train_dir):\n",
    "    num = i.split('_')[0]\n",
    "    train_dict[num] = train_dict.get(num,0)+1\n",
    "    \n",
    "for j in listdir(test_dir):\n",
    "    num = j.split('_')[0]\n",
    "    test_dict[num] = test_dict.get(num,0)+1\n",
    "print(sorted(train_dict.items()))\n",
    "print(sorted(test_dict.items()))\n",
    "    \n",
    "    "
   ]
  }
 ],
 "metadata": {
  "kernelspec": {
   "display_name": "Python 3",
   "language": "python",
   "name": "python3"
  },
  "language_info": {
   "codemirror_mode": {
    "name": "ipython",
    "version": 3
   },
   "file_extension": ".py",
   "mimetype": "text/x-python",
   "name": "python",
   "nbconvert_exporter": "python",
   "pygments_lexer": "ipython3",
   "version": "3.5.2"
  },
  "toc": {
   "colors": {
    "hover_highlight": "#DAA520",
    "running_highlight": "#FF0000",
    "selected_highlight": "#FFD700"
   },
   "moveMenuLeft": true,
   "nav_menu": {
    "height": "0px",
    "width": "0px"
   },
   "navigate_menu": true,
   "number_sections": true,
   "sideBar": true,
   "threshold": 4,
   "toc_cell": false,
   "toc_position": {
    "height": "627px",
    "left": "0px",
    "right": "1335.2px",
    "top": "107px",
    "width": "143px"
   },
   "toc_section_display": "block",
   "toc_window_display": true
  }
 },
 "nbformat": 4,
 "nbformat_minor": 0
}
